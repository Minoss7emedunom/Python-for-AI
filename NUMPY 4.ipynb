{
 "cells": [
  {
   "cell_type": "markdown",
   "id": "38ea62af",
   "metadata": {},
   "source": [
    "## Broadcasting"
   ]
  },
  {
   "cell_type": "code",
   "execution_count": 1,
   "id": "33d8920b",
   "metadata": {},
   "outputs": [],
   "source": [
    "import numpy as np"
   ]
  },
  {
   "cell_type": "code",
   "execution_count": 2,
   "id": "f8919b42",
   "metadata": {},
   "outputs": [],
   "source": [
    "np.random.seed(0)\n",
    "A = np.random.randint(0,10, [2,3])\n",
    "B = np.ones((2,3))"
   ]
  },
  {
   "cell_type": "code",
   "execution_count": 3,
   "id": "e6c36304",
   "metadata": {},
   "outputs": [
    {
     "name": "stdout",
     "output_type": "stream",
     "text": [
      "[[5 0 3]\n",
      " [3 7 9]]\n"
     ]
    }
   ],
   "source": [
    "print(A)"
   ]
  },
  {
   "cell_type": "code",
   "execution_count": 4,
   "id": "d83b94b6",
   "metadata": {},
   "outputs": [
    {
     "name": "stdout",
     "output_type": "stream",
     "text": [
      "[[1. 1. 1.]\n",
      " [1. 1. 1.]]\n"
     ]
    }
   ],
   "source": [
    "print(B)"
   ]
  },
  {
   "cell_type": "code",
   "execution_count": 5,
   "id": "3d6e325b",
   "metadata": {},
   "outputs": [
    {
     "name": "stdout",
     "output_type": "stream",
     "text": [
      "[[ 6.  1.  4.]\n",
      " [ 4.  8. 10.]]\n"
     ]
    }
   ],
   "source": [
    "print(A+B)"
   ]
  },
  {
   "cell_type": "markdown",
   "id": "41033506",
   "metadata": {},
   "source": [
    " ## Le broadcasting consiste à étendre les dimensions d'un tableau."
   ]
  },
  {
   "cell_type": "code",
   "execution_count": 6,
   "id": "08d4d670",
   "metadata": {},
   "outputs": [
    {
     "name": "stdout",
     "output_type": "stream",
     "text": [
      "[[ 7  2  5]\n",
      " [ 5  9 11]]\n"
     ]
    }
   ],
   "source": [
    "print(A+2)"
   ]
  },
  {
   "cell_type": "code",
   "execution_count": 7,
   "id": "6c6db31d",
   "metadata": {},
   "outputs": [
    {
     "name": "stdout",
     "output_type": "stream",
     "text": [
      "[[1.]\n",
      " [1.]]\n"
     ]
    }
   ],
   "source": [
    " C = np.ones((2,1))\n",
    "print(C)"
   ]
  },
  {
   "cell_type": "code",
   "execution_count": 8,
   "id": "98ebce8f",
   "metadata": {},
   "outputs": [
    {
     "name": "stdout",
     "output_type": "stream",
     "text": [
      "[[ 6.  1.  4.]\n",
      " [ 4.  8. 10.]]\n"
     ]
    }
   ],
   "source": [
    "print(A+C)"
   ]
  },
  {
   "cell_type": "markdown",
   "id": "dc2a972c",
   "metadata": {},
   "source": [
    "## La règle est simple :\n",
    "A et B dimensions égales ou égales à 1"
   ]
  },
  {
   "cell_type": "code",
   "execution_count": 9,
   "id": "2a76ddce",
   "metadata": {},
   "outputs": [],
   "source": [
    "A = np.random.randint(0,10, [4,1])\n",
    "B = np.ones((1,3))"
   ]
  },
  {
   "cell_type": "code",
   "execution_count": 10,
   "id": "f07095a3",
   "metadata": {},
   "outputs": [
    {
     "name": "stdout",
     "output_type": "stream",
     "text": [
      "[[3]\n",
      " [5]\n",
      " [2]\n",
      " [4]]\n"
     ]
    }
   ],
   "source": [
    "print(A)"
   ]
  },
  {
   "cell_type": "code",
   "execution_count": 11,
   "id": "b8fd8781",
   "metadata": {},
   "outputs": [
    {
     "name": "stdout",
     "output_type": "stream",
     "text": [
      "[[1. 1. 1.]]\n"
     ]
    }
   ],
   "source": [
    "print(B)"
   ]
  },
  {
   "cell_type": "code",
   "execution_count": null,
   "id": "de88df95",
   "metadata": {},
   "outputs": [],
   "source": [
    "print(A+B)"
   ]
  },
  {
   "cell_type": "code",
   "execution_count": 13,
   "id": "4c8c1e27",
   "metadata": {},
   "outputs": [],
   "source": [
    " C = np.ones((3,))"
   ]
  },
  {
   "cell_type": "code",
   "execution_count": 14,
   "id": "c3197eca",
   "metadata": {},
   "outputs": [
    {
     "name": "stdout",
     "output_type": "stream",
     "text": [
      "[[4. 4. 4.]\n",
      " [6. 6. 6.]\n",
      " [3. 3. 3.]\n",
      " [5. 5. 5.]]\n"
     ]
    }
   ],
   "source": [
    "print(A+C)"
   ]
  },
  {
   "cell_type": "markdown",
   "id": "3b4c57a3",
   "metadata": {},
   "source": [
    "## CONCLUSION DE LA SERIE NUMPY"
   ]
  },
  {
   "cell_type": "markdown",
   "id": "d51765ba",
   "metadata": {},
   "source": [
    "Lorsqu'on utilise numpy c'est pour travailler avec des tableau à ndimensions et en machine learning on vas plutot créer des tableau à 2 dimensions"
   ]
  },
  {
   "cell_type": "markdown",
   "id": "7f2b643c",
   "metadata": {},
   "source": [
    "## ATTRIBUT LES PLUS UTILES\n",
    "Ils y en a deux :"
   ]
  },
  {
   "cell_type": "markdown",
   "id": "793e10bb",
   "metadata": {},
   "source": [
    "## Attribut shape\n",
    "Elle vous permet d'analyser les dimensions de votre tableau, en gros c'est de voir combien y'a de ligne et combien ya de colonne. Et verifier regulièrement la dimensions de vos tableau.Et les dimensions des resultats de broadcasting"
   ]
  },
  {
   "cell_type": "markdown",
   "id": "3c346741",
   "metadata": {},
   "source": [
    "## Attribut size \n",
    "Elle vous permet de comprendre le nombre d'élément qu'il y'a dans votre tableau."
   ]
  },
  {
   "cell_type": "code",
   "execution_count": null,
   "id": "8cbd2f4a",
   "metadata": {},
   "outputs": [],
   "source": []
  }
 ],
 "metadata": {
  "kernelspec": {
   "display_name": "Python 3 (ipykernel)",
   "language": "python",
   "name": "python3"
  },
  "language_info": {
   "codemirror_mode": {
    "name": "ipython",
    "version": 3
   },
   "file_extension": ".py",
   "mimetype": "text/x-python",
   "name": "python",
   "nbconvert_exporter": "python",
   "pygments_lexer": "ipython3",
   "version": "3.11.5"
  }
 },
 "nbformat": 4,
 "nbformat_minor": 5
}
