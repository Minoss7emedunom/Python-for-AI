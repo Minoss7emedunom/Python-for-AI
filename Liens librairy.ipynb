{
 "cells": [
  {
   "cell_type": "markdown",
   "id": "164d1fd8",
   "metadata": {},
   "source": [
    "## (1) Modules are often grouped into packages\n",
    "The basic modules in python are documented here:\n",
    "https://www.youtube.com/redirect?event=video_description&redir_token=QUFFLUhqbF9ENl92b3VNSTBKVlhteFU5bkpDenpTTUIxZ3xBQ3Jtc0tud2tKVjFJVmUzTjlITGFMazNTaFV3Mi1FdnMxR29tRG9wX2Q4YmRKa1FnSGdaWGFpMTFPd1VEa0JxN1NGa0JVRGZrNkZRRTZXX3NMd19EMXZWUm5nY0xoZGhtQ0ktSDlwRXhmdnNTQjVTSnVqX09FZw&q=https%3A%2F%2Fdocs.python.org%2F3%2Fpy-modindex.html&v=mSh4h-J0z1c"
   ]
  },
  {
   "cell_type": "markdown",
   "id": "36ee8b2e",
   "metadata": {},
   "source": [
    "## (2) Link to the Numpy documentation, which shows you a very good example of a class, with the attributes and methods that are part of the ndarray object:\n",
    "\n",
    "https://www.youtube.com/redirect?event=video_description&redir_token=QUFFLUhqbXM2VnNkbEtmRjlkaW0zcXJUcGI4VzJ2YzJhZ3xBQ3Jtc0tsN1BmYUM1Q0JPVW54SEVVcTVxVUNVejBldEJVWGJNVFBFM1dfV2V0b3JTRGVzM3pMbEVtUUFLMGNiVURvWlNKMEFJU2ZmRkszZzZ5elZxVFFEbWZoOWV0Yi1wcGxmQWNKNDJ4a3dQbzNEQjZtb2Ztcw&q=https%3A%2F%2Fdocs.scipy.org%2Fdoc%2Fnumpy%2Freference%2Fgenerated%2Fnumpy.ndarray.html&v=2LdLiCtVUEA"
   ]
  },
  {
   "cell_type": "markdown",
   "id": "927b2652",
   "metadata": {},
   "source": [
    "## (3) Numpy documentation for np.random:\n",
    "\n",
    "https://docs.scipy.org/doc/numpy-1.16.0/reference/routines.random.html"
   ]
  },
  {
   "cell_type": "markdown",
   "id": "e701847c",
   "metadata": {},
   "source": [
    "## (4) LINK TO DOCUMENTATION:"
   ]
  },
  {
   "cell_type": "markdown",
   "id": "95da3e09",
   "metadata": {},
   "source": [
    "# Numpy mathematical functions\n",
    "\n",
    "https://docs.scipy.org/doc/numpy-1.13.0/reference/routines.math.html"
   ]
  },
  {
   "cell_type": "markdown",
   "id": "635c965a",
   "metadata": {},
   "source": [
    "# Numpy statistics\n",
    "\n",
    "https://docs.scipy.org/doc/numpy-1.13.0/reference/routines.statistics.html"
   ]
  },
  {
   "cell_type": "markdown",
   "id": "2c004815",
   "metadata": {},
   "source": [
    "# Numpy linear algebra\n",
    "\n",
    "https://docs.scipy.org/doc/numpy-1.13.0/reference/routines.linalg.html"
   ]
  },
  {
   "cell_type": "markdown",
   "id": "3932ac41",
   "metadata": {},
   "source": [
    "## (5) Wikipedia Standardization and standardization\n",
    "\n",
    "https://en.wikipedia.org/wiki/Feature_scaling"
   ]
  },
  {
   "cell_type": "markdown",
   "id": "036f14f3",
   "metadata": {},
   "source": [
    "## (6)  Matplotlib\n",
    "For matplotlib color codes\n",
    "\n",
    "https://matplotlib.org/3.1.0/tutorials/colors/colormaps.html"
   ]
  },
  {
   "cell_type": "markdown",
   "id": "73729fe8",
   "metadata": {},
   "source": [
    "## (7) Scipy documentation:\n",
    "\n",
    "https://docs.scipy.org/doc/scipy/reference/index.html"
   ]
  },
  {
   "cell_type": "markdown",
   "id": "7f0a5ce4",
   "metadata": {},
   "source": [
    "# interp1d function for interpolations\n",
    "\n",
    "https://docs.scipy.org/doc/scipy/reference/generated/scipy.interpolate.interp1d.html#scipy.interpolate.interp1d"
   ]
  },
  {
   "cell_type": "markdown",
   "id": "852fdc77",
   "metadata": {},
   "source": [
    "#  Module Optimize:\n",
    "\n",
    "https://docs.scipy.org/doc/scipy/reference/optimize.html"
   ]
  },
  {
   "cell_type": "markdown",
   "id": "645c628b",
   "metadata": {},
   "source": [
    "# ndimage module for image processing:\n",
    "\n",
    "https://docs.scipy.org/doc/scipy/reference/ndimage.html"
   ]
  },
  {
   "cell_type": "markdown",
   "id": "2de71f8e",
   "metadata": {},
   "source": [
    "## (8) Pandas documentation\n",
    "\n",
    "https://pandas.pydata.org/pandas-docs/stable/reference/api/pandas.DataFrame.html"
   ]
  },
  {
   "cell_type": "markdown",
   "id": "a69cb846",
   "metadata": {},
   "source": [
    "## (9) The Seaborn site:\n",
    "\n",
    "https://seaborn.pydata.org/index.html"
   ]
  },
  {
   "cell_type": "markdown",
   "id": "866335ce",
   "metadata": {},
   "source": [
    "## (10) SKLEARN documentation\n",
    "\n",
    "https://scikit-learn.org/stable/"
   ]
  },
  {
   "cell_type": "markdown",
   "id": "d80c9d17",
   "metadata": {},
   "source": [
    "# SKLEARN algorithm map\n",
    "\n",
    "https://scikit-learn.org/stable/tutorial/machine_learning_map/index.html"
   ]
  },
  {
   "cell_type": "markdown",
   "id": "b1873826",
   "metadata": {},
   "source": [
    "# Strings for metrics :\n",
    "\n",
    "https://scikit-learn.org/stable/modules/model_evaluation.html"
   ]
  },
  {
   "cell_type": "code",
   "execution_count": null,
   "id": "f65d535f",
   "metadata": {},
   "outputs": [],
   "source": []
  }
 ],
 "metadata": {
  "kernelspec": {
   "display_name": "Python 3 (ipykernel)",
   "language": "python",
   "name": "python3"
  },
  "language_info": {
   "codemirror_mode": {
    "name": "ipython",
    "version": 3
   },
   "file_extension": ".py",
   "mimetype": "text/x-python",
   "name": "python",
   "nbconvert_exporter": "python",
   "pygments_lexer": "ipython3",
   "version": "3.11.5"
  }
 },
 "nbformat": 4,
 "nbformat_minor": 5
}
