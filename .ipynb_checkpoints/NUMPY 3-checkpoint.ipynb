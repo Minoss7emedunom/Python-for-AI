{
 "cells": [
  {
   "cell_type": "markdown",
   "id": "e1d2f9ba",
   "metadata": {},
   "source": [
    "## METHODE ndarray"
   ]
  },
  {
   "cell_type": "code",
   "execution_count": 1,
   "id": "7133d557",
   "metadata": {},
   "outputs": [],
   "source": [
    "import numpy as np"
   ]
  },
  {
   "cell_type": "code",
   "execution_count": 2,
   "id": "b4447d54",
   "metadata": {},
   "outputs": [
    {
     "name": "stdout",
     "output_type": "stream",
     "text": [
      "[[5 0 3]\n",
      " [3 7 9]]\n"
     ]
    }
   ],
   "source": [
    "np.random.seed(0)\n",
    "A  = np.random.randint(0,10,[2,3])\n",
    "print(A)"
   ]
  },
  {
   "cell_type": "code",
   "execution_count": 3,
   "id": "9234860b",
   "metadata": {},
   "outputs": [
    {
     "name": "stdout",
     "output_type": "stream",
     "text": [
      "27\n"
     ]
    }
   ],
   "source": [
    "print(A.sum())"
   ]
  },
  {
   "cell_type": "code",
   "execution_count": 4,
   "id": "b2ef7c1e",
   "metadata": {},
   "outputs": [
    {
     "name": "stdout",
     "output_type": "stream",
     "text": [
      "[ 8  7 12]\n"
     ]
    }
   ],
   "source": [
    "print(A.sum(axis = 0))"
   ]
  },
  {
   "cell_type": "code",
   "execution_count": 5,
   "id": "8b5dfc2c",
   "metadata": {},
   "outputs": [
    {
     "name": "stdout",
     "output_type": "stream",
     "text": [
      "[ 8 19]\n"
     ]
    }
   ],
   "source": [
    "print(A.sum(axis = 1))"
   ]
  },
  {
   "cell_type": "code",
   "execution_count": 7,
   "id": "b359a669",
   "metadata": {},
   "outputs": [
    {
     "name": "stdout",
     "output_type": "stream",
     "text": [
      "[ 5  5  8 11 18 27]\n"
     ]
    }
   ],
   "source": [
    "print(A.cumsum())"
   ]
  },
  {
   "cell_type": "code",
   "execution_count": 8,
   "id": "041122c1",
   "metadata": {},
   "outputs": [
    {
     "name": "stdout",
     "output_type": "stream",
     "text": [
      "[[ 5  0  3]\n",
      " [ 8  7 12]]\n"
     ]
    }
   ],
   "source": [
    "print(A.cumsum(axis = 0))"
   ]
  },
  {
   "cell_type": "code",
   "execution_count": 9,
   "id": "b5e1c206",
   "metadata": {},
   "outputs": [
    {
     "name": "stdout",
     "output_type": "stream",
     "text": [
      "[[ 5  5  8]\n",
      " [ 3 10 19]]\n"
     ]
    }
   ],
   "source": [
    "print(A.cumsum(axis = 1))"
   ]
  },
  {
   "cell_type": "code",
   "execution_count": 10,
   "id": "4cb940bb",
   "metadata": {},
   "outputs": [
    {
     "name": "stdout",
     "output_type": "stream",
     "text": [
      "[5 0 0 0 0 0]\n"
     ]
    }
   ],
   "source": [
    "print(A.cumprod())"
   ]
  },
  {
   "cell_type": "code",
   "execution_count": 11,
   "id": "570cfe5b",
   "metadata": {},
   "outputs": [
    {
     "name": "stdout",
     "output_type": "stream",
     "text": [
      "[[ 5  0  3]\n",
      " [ 8  7 12]]\n"
     ]
    }
   ],
   "source": [
    "print(A.cumsum(axis = 0))"
   ]
  },
  {
   "cell_type": "code",
   "execution_count": 12,
   "id": "541ff36a",
   "metadata": {},
   "outputs": [
    {
     "name": "stdout",
     "output_type": "stream",
     "text": [
      "[[ 5  5  8]\n",
      " [ 3 10 19]]\n"
     ]
    }
   ],
   "source": [
    "print(A.cumsum(axis = 1))"
   ]
  },
  {
   "cell_type": "code",
   "execution_count": 13,
   "id": "9b5a6148",
   "metadata": {},
   "outputs": [
    {
     "name": "stdout",
     "output_type": "stream",
     "text": [
      "0\n"
     ]
    }
   ],
   "source": [
    "print(A.min())"
   ]
  },
  {
   "cell_type": "code",
   "execution_count": 14,
   "id": "3f531bfe",
   "metadata": {},
   "outputs": [
    {
     "name": "stdout",
     "output_type": "stream",
     "text": [
      "[3 0 3]\n"
     ]
    }
   ],
   "source": [
    "print(A.min(axis = 0))"
   ]
  },
  {
   "cell_type": "code",
   "execution_count": 15,
   "id": "81e94ecc",
   "metadata": {},
   "outputs": [
    {
     "name": "stdout",
     "output_type": "stream",
     "text": [
      "[0 3]\n"
     ]
    }
   ],
   "source": [
    "print(A.min(axis = 1))"
   ]
  },
  {
   "cell_type": "code",
   "execution_count": 16,
   "id": "fb2bafa0",
   "metadata": {},
   "outputs": [
    {
     "name": "stdout",
     "output_type": "stream",
     "text": [
      "9\n"
     ]
    }
   ],
   "source": [
    "print(A.max())"
   ]
  },
  {
   "cell_type": "code",
   "execution_count": 17,
   "id": "5ea06a76",
   "metadata": {},
   "outputs": [
    {
     "name": "stdout",
     "output_type": "stream",
     "text": [
      "[5 7 9]\n"
     ]
    }
   ],
   "source": [
    "print(A.max(axis = 0))"
   ]
  },
  {
   "cell_type": "code",
   "execution_count": 18,
   "id": "00d4f3ae",
   "metadata": {},
   "outputs": [
    {
     "name": "stdout",
     "output_type": "stream",
     "text": [
      "[5 9]\n"
     ]
    }
   ],
   "source": [
    "print(A.max(axis = 1))"
   ]
  },
  {
   "cell_type": "code",
   "execution_count": 19,
   "id": "f9676a7f",
   "metadata": {},
   "outputs": [
    {
     "name": "stdout",
     "output_type": "stream",
     "text": [
      "1\n"
     ]
    }
   ],
   "source": [
    "print(A.argmin())"
   ]
  },
  {
   "cell_type": "code",
   "execution_count": 20,
   "id": "5c824c0d",
   "metadata": {},
   "outputs": [
    {
     "name": "stdout",
     "output_type": "stream",
     "text": [
      "[1 0 0]\n"
     ]
    }
   ],
   "source": [
    "print(A.argmin(axis = 0))"
   ]
  },
  {
   "cell_type": "code",
   "execution_count": 21,
   "id": "267fe868",
   "metadata": {},
   "outputs": [
    {
     "name": "stdout",
     "output_type": "stream",
     "text": [
      "[1 0]\n"
     ]
    }
   ],
   "source": [
    "print(A.argmin(axis = 1))"
   ]
  },
  {
   "cell_type": "code",
   "execution_count": 22,
   "id": "d915d207",
   "metadata": {},
   "outputs": [
    {
     "name": "stdout",
     "output_type": "stream",
     "text": [
      "[0 1 1]\n"
     ]
    }
   ],
   "source": [
    "print(A.argmax(axis = 0))"
   ]
  },
  {
   "cell_type": "code",
   "execution_count": 25,
   "id": "90e745c5",
   "metadata": {},
   "outputs": [
    {
     "name": "stdout",
     "output_type": "stream",
     "text": [
      "[[0 0 0]\n",
      " [1 1 1]]\n"
     ]
    }
   ],
   "source": [
    "print(A.argsort(axis = 0))"
   ]
  },
  {
   "cell_type": "code",
   "execution_count": 26,
   "id": "74ee3762",
   "metadata": {},
   "outputs": [
    {
     "name": "stdout",
     "output_type": "stream",
     "text": [
      "[[0 1 2]\n",
      " [0 1 2]]\n"
     ]
    }
   ],
   "source": [
    "print(A.argsort(axis = 1))"
   ]
  },
  {
   "cell_type": "markdown",
   "id": "cccf7f14",
   "metadata": {},
   "source": [
    "## ROUTINE DE NUMPY"
   ]
  },
  {
   "cell_type": "code",
   "execution_count": 27,
   "id": "c95e9b25",
   "metadata": {},
   "outputs": [
    {
     "name": "stdout",
     "output_type": "stream",
     "text": [
      "[[1.00000000e+00 2.00855369e+01 1.48413159e+02]\n",
      " [2.00855369e+01 1.09663316e+03 8.10308393e+03]]\n"
     ]
    }
   ],
   "source": [
    "print(np.exp(A))"
   ]
  },
  {
   "cell_type": "code",
   "execution_count": 28,
   "id": "3f5f6db7",
   "metadata": {},
   "outputs": [
    {
     "name": "stdout",
     "output_type": "stream",
     "text": [
      "[[ 0.          0.14112001 -0.95892427]\n",
      " [ 0.14112001  0.6569866   0.41211849]]\n"
     ]
    }
   ],
   "source": [
    "print(np.sin(A))"
   ]
  },
  {
   "cell_type": "code",
   "execution_count": 29,
   "id": "0251354b",
   "metadata": {},
   "outputs": [
    {
     "name": "stdout",
     "output_type": "stream",
     "text": [
      "[[ 1.         -0.9899925   0.28366219]\n",
      " [-0.9899925   0.75390225 -0.91113026]]\n"
     ]
    }
   ],
   "source": [
    "print(np.cos(A))"
   ]
  },
  {
   "cell_type": "code",
   "execution_count": 30,
   "id": "ce925571",
   "metadata": {},
   "outputs": [
    {
     "name": "stdout",
     "output_type": "stream",
     "text": [
      "[[   0.           10.01787493   74.20321058]\n",
      " [  10.01787493  548.31612327 4051.54190208]]\n"
     ]
    }
   ],
   "source": [
    "print(np.sinh(A))"
   ]
  },
  {
   "cell_type": "code",
   "execution_count": 31,
   "id": "c1712c18",
   "metadata": {},
   "outputs": [
    {
     "name": "stdout",
     "output_type": "stream",
     "text": [
      "[[      -inf 1.09861229 1.60943791]\n",
      " [1.09861229 1.94591015 2.19722458]]\n"
     ]
    },
    {
     "name": "stderr",
     "output_type": "stream",
     "text": [
      "C:\\Users\\benib\\AppData\\Local\\Temp\\ipykernel_13932\\2484384912.py:1: RuntimeWarning: divide by zero encountered in log\n",
      "  print(np.log(A))\n"
     ]
    }
   ],
   "source": [
    "print(np.log(A))"
   ]
  },
  {
   "cell_type": "markdown",
   "id": "f1c8df2e",
   "metadata": {},
   "source": [
    "## Statistiques"
   ]
  },
  {
   "cell_type": "code",
   "execution_count": 38,
   "id": "7e6b1f87",
   "metadata": {},
   "outputs": [
    {
     "name": "stdout",
     "output_type": "stream",
     "text": [
      "[[0 3 5]\n",
      " [3 7 9]]\n"
     ]
    }
   ],
   "source": [
    "print(A)"
   ]
  },
  {
   "cell_type": "code",
   "execution_count": 39,
   "id": "76cbe1a7",
   "metadata": {},
   "outputs": [
    {
     "name": "stdout",
     "output_type": "stream",
     "text": [
      "4.5\n"
     ]
    }
   ],
   "source": [
    "print(A.mean())"
   ]
  },
  {
   "cell_type": "code",
   "execution_count": 40,
   "id": "fa941365",
   "metadata": {},
   "outputs": [
    {
     "name": "stdout",
     "output_type": "stream",
     "text": [
      "2.9297326385411577\n"
     ]
    }
   ],
   "source": [
    "print(A.std())"
   ]
  },
  {
   "cell_type": "code",
   "execution_count": 41,
   "id": "fad97c97",
   "metadata": {},
   "outputs": [
    {
     "name": "stdout",
     "output_type": "stream",
     "text": [
      "8.583333333333334\n"
     ]
    }
   ],
   "source": [
    "print(A.var())"
   ]
  },
  {
   "cell_type": "code",
   "execution_count": 42,
   "id": "ce93e317",
   "metadata": {},
   "outputs": [
    {
     "name": "stdout",
     "output_type": "stream",
     "text": [
      "[[1.         0.99717646]\n",
      " [0.99717646 1.        ]]\n"
     ]
    }
   ],
   "source": [
    "print(np.corrcoef(A))"
   ]
  },
  {
   "cell_type": "code",
   "execution_count": 43,
   "id": "d261ea93",
   "metadata": {},
   "outputs": [
    {
     "name": "stdout",
     "output_type": "stream",
     "text": [
      "0.997176464952738\n"
     ]
    }
   ],
   "source": [
    "print(np.corrcoef(A)[0,1])"
   ]
  },
  {
   "cell_type": "code",
   "execution_count": 44,
   "id": "f900cd49",
   "metadata": {},
   "outputs": [
    {
     "data": {
      "text/plain": [
       "(array([0, 3, 5, 7, 9]), array([1, 2, 1, 1, 1], dtype=int64))"
      ]
     },
     "execution_count": 44,
     "metadata": {},
     "output_type": "execute_result"
    }
   ],
   "source": [
    "np.unique(A, return_counts = True)"
   ]
  },
  {
   "cell_type": "code",
   "execution_count": 45,
   "id": "f83b161f",
   "metadata": {},
   "outputs": [
    {
     "name": "stdout",
     "output_type": "stream",
     "text": [
      "[[5 0 3 3 7]\n",
      " [9 3 5 2 4]\n",
      " [7 6 8 8 1]\n",
      " [6 7 7 8 1]\n",
      " [5 9 8 9 4]]\n"
     ]
    }
   ],
   "source": [
    "np.random.seed(0)\n",
    "A  = np.random.randint(0,10,[5,5])\n",
    "print(A)"
   ]
  },
  {
   "cell_type": "code",
   "execution_count": 48,
   "id": "be27ae7e",
   "metadata": {},
   "outputs": [],
   "source": [
    "values, counts = np.unique(A, return_counts = True)"
   ]
  },
  {
   "cell_type": "code",
   "execution_count": 49,
   "id": "2e09f5f3",
   "metadata": {},
   "outputs": [
    {
     "name": "stdout",
     "output_type": "stream",
     "text": [
      "[1 2 1 3 2 3 2 4 4 3]\n"
     ]
    }
   ],
   "source": [
    "print(counts)"
   ]
  },
  {
   "cell_type": "code",
   "execution_count": 50,
   "id": "2d37f6b8",
   "metadata": {},
   "outputs": [
    {
     "name": "stdout",
     "output_type": "stream",
     "text": [
      "[0 2 1 4 6 3 5 9 7 8]\n"
     ]
    }
   ],
   "source": [
    "print(counts.argsort())"
   ]
  },
  {
   "cell_type": "code",
   "execution_count": 51,
   "id": "c93e5e4f",
   "metadata": {},
   "outputs": [
    {
     "name": "stdout",
     "output_type": "stream",
     "text": [
      "[0 2 1 4 6 3 5 9 7 8]\n"
     ]
    }
   ],
   "source": [
    "print(values[counts.argsort()])"
   ]
  },
  {
   "cell_type": "code",
   "execution_count": 52,
   "id": "74b28401",
   "metadata": {},
   "outputs": [
    {
     "name": "stdout",
     "output_type": "stream",
     "text": [
      "valeur 0 apparait 1\n",
      "valeur 2 apparait 1\n",
      "valeur 1 apparait 2\n",
      "valeur 4 apparait 2\n",
      "valeur 6 apparait 2\n",
      "valeur 3 apparait 3\n",
      "valeur 5 apparait 3\n",
      "valeur 9 apparait 3\n",
      "valeur 7 apparait 4\n",
      "valeur 8 apparait 4\n"
     ]
    }
   ],
   "source": [
    "for i,j in zip(values[counts.argsort()], counts[counts.argsort()]):\n",
    "    print(f'valeur {i} apparait {j}')"
   ]
  },
  {
   "cell_type": "markdown",
   "id": "5fe3734f",
   "metadata": {},
   "source": [
    "## NAN Corrections"
   ]
  },
  {
   "cell_type": "code",
   "execution_count": 53,
   "id": "8c89969c",
   "metadata": {},
   "outputs": [
    {
     "name": "stdout",
     "output_type": "stream",
     "text": [
      "[[ 0.44386323  0.33367433         nan -0.20515826  0.3130677 ]\n",
      " [-0.85409574 -2.55298982  0.6536186   0.8644362  -0.74216502]\n",
      " [ 2.26975462 -1.45436567  0.04575852 -0.18718385  1.53277921]\n",
      " [ 1.46935877  0.15494743  0.37816252 -0.88778575 -1.98079647]\n",
      " [-0.34791215  0.15634897  1.23029068         nan -0.38732682]]\n"
     ]
    }
   ],
   "source": [
    "A = np.random.randn(5,5)\n",
    "A[0,2] = np.nan\n",
    "A[4,3] = np.nan\n",
    "print(A)"
   ]
  },
  {
   "cell_type": "code",
   "execution_count": 54,
   "id": "06d66989",
   "metadata": {},
   "outputs": [
    {
     "name": "stdout",
     "output_type": "stream",
     "text": [
      "0.010707879575141632\n"
     ]
    }
   ],
   "source": [
    "print(np.nanmean(A))"
   ]
  },
  {
   "cell_type": "code",
   "execution_count": 56,
   "id": "f3315150",
   "metadata": {},
   "outputs": [
    {
     "name": "stdout",
     "output_type": "stream",
     "text": [
      "1.1017518326683546\n"
     ]
    }
   ],
   "source": [
    "print(np.nanstd(A))"
   ]
  },
  {
   "cell_type": "code",
   "execution_count": 57,
   "id": "330a01ba",
   "metadata": {},
   "outputs": [
    {
     "name": "stdout",
     "output_type": "stream",
     "text": [
      "1.213857100788078\n"
     ]
    }
   ],
   "source": [
    "print(np.nanvar(A))"
   ]
  },
  {
   "cell_type": "code",
   "execution_count": 58,
   "id": "e5708f48",
   "metadata": {},
   "outputs": [
    {
     "name": "stdout",
     "output_type": "stream",
     "text": [
      "[[False False  True False False]\n",
      " [False False False False False]\n",
      " [False False False False False]\n",
      " [False False False False False]\n",
      " [False False False  True False]]\n"
     ]
    }
   ],
   "source": [
    "print(np.isnan(A))"
   ]
  },
  {
   "cell_type": "code",
   "execution_count": 59,
   "id": "0df31af6",
   "metadata": {},
   "outputs": [
    {
     "name": "stdout",
     "output_type": "stream",
     "text": [
      "2\n"
     ]
    }
   ],
   "source": [
    "print(np.isnan(A).sum())"
   ]
  },
  {
   "cell_type": "code",
   "execution_count": 60,
   "id": "9cc98b52",
   "metadata": {},
   "outputs": [
    {
     "name": "stdout",
     "output_type": "stream",
     "text": [
      "0.08\n"
     ]
    }
   ],
   "source": [
    "print(np.isnan(A).sum()/A.size)"
   ]
  },
  {
   "cell_type": "code",
   "execution_count": 61,
   "id": "16524c20",
   "metadata": {},
   "outputs": [
    {
     "name": "stdout",
     "output_type": "stream",
     "text": [
      "[[False False  True False False]\n",
      " [False False False False False]\n",
      " [False False False False False]\n",
      " [False False False False False]\n",
      " [False False False  True False]]\n"
     ]
    }
   ],
   "source": [
    "print(np.isnan(A))"
   ]
  },
  {
   "cell_type": "code",
   "execution_count": 62,
   "id": "3bd5a97b",
   "metadata": {},
   "outputs": [
    {
     "name": "stdout",
     "output_type": "stream",
     "text": [
      "[[ 0.44386323  0.33367433  0.         -0.20515826  0.3130677 ]\n",
      " [-0.85409574 -2.55298982  0.6536186   0.8644362  -0.74216502]\n",
      " [ 2.26975462 -1.45436567  0.04575852 -0.18718385  1.53277921]\n",
      " [ 1.46935877  0.15494743  0.37816252 -0.88778575 -1.98079647]\n",
      " [-0.34791215  0.15634897  1.23029068  0.         -0.38732682]]\n"
     ]
    }
   ],
   "source": [
    "A[np.isnan(A)] = 0\n",
    "print(A)"
   ]
  },
  {
   "cell_type": "markdown",
   "id": "49492939",
   "metadata": {},
   "source": [
    "## Algèbre Lineaire"
   ]
  },
  {
   "cell_type": "code",
   "execution_count": 63,
   "id": "a42ead79",
   "metadata": {},
   "outputs": [
    {
     "name": "stdout",
     "output_type": "stream",
     "text": [
      "[[1. 1. 1.]\n",
      " [1. 1. 1.]]\n"
     ]
    }
   ],
   "source": [
    "A = np.ones((2,3))\n",
    "B = np.ones((3,2))\n",
    "print(A)"
   ]
  },
  {
   "cell_type": "code",
   "execution_count": 64,
   "id": "99121ba6",
   "metadata": {},
   "outputs": [
    {
     "name": "stdout",
     "output_type": "stream",
     "text": [
      "[[1. 1.]\n",
      " [1. 1.]\n",
      " [1. 1.]]\n"
     ]
    }
   ],
   "source": [
    "print(B)"
   ]
  },
  {
   "cell_type": "code",
   "execution_count": 65,
   "id": "8a3e413a",
   "metadata": {},
   "outputs": [
    {
     "name": "stdout",
     "output_type": "stream",
     "text": [
      "[[1. 1.]\n",
      " [1. 1.]\n",
      " [1. 1.]]\n"
     ]
    }
   ],
   "source": [
    " print(A.T)"
   ]
  },
  {
   "cell_type": "code",
   "execution_count": 66,
   "id": "1d2db574",
   "metadata": {},
   "outputs": [
    {
     "name": "stdout",
     "output_type": "stream",
     "text": [
      "[[3. 3.]\n",
      " [3. 3.]]\n"
     ]
    }
   ],
   "source": [
    "print(A.dot(B))"
   ]
  },
  {
   "cell_type": "code",
   "execution_count": 67,
   "id": "7c0c8d1d",
   "metadata": {},
   "outputs": [
    {
     "name": "stdout",
     "output_type": "stream",
     "text": [
      "[[2. 2. 2.]\n",
      " [2. 2. 2.]\n",
      " [2. 2. 2.]]\n"
     ]
    }
   ],
   "source": [
    "print(B.dot(A))"
   ]
  },
  {
   "cell_type": "code",
   "execution_count": 68,
   "id": "e119cec7",
   "metadata": {},
   "outputs": [
    {
     "name": "stdout",
     "output_type": "stream",
     "text": [
      "[[3 5 9]\n",
      " [4 4 6]\n",
      " [4 4 3]]\n"
     ]
    }
   ],
   "source": [
    "A = np.random.randint(0,10, [3,3])\n",
    "print(A)"
   ]
  },
  {
   "cell_type": "code",
   "execution_count": 69,
   "id": "4f9177b3",
   "metadata": {},
   "outputs": [
    {
     "name": "stdout",
     "output_type": "stream",
     "text": [
      "23.999999999999993\n"
     ]
    }
   ],
   "source": [
    "print(np.linalg.det(A))"
   ]
  },
  {
   "cell_type": "code",
   "execution_count": 70,
   "id": "21b63888",
   "metadata": {},
   "outputs": [
    {
     "name": "stdout",
     "output_type": "stream",
     "text": [
      "[[-0.5         0.875      -0.25      ]\n",
      " [ 0.5        -1.125       0.75      ]\n",
      " [-0.          0.33333333 -0.33333333]]\n"
     ]
    }
   ],
   "source": [
    "print(np.linalg.inv(A))"
   ]
  },
  {
   "cell_type": "code",
   "execution_count": 71,
   "id": "d4aa36b3",
   "metadata": {},
   "outputs": [
    {
     "name": "stdout",
     "output_type": "stream",
     "text": [
      "(array([13.58872344, -3.        , -0.58872344]), array([[-6.70561268e-01, -8.32050294e-01,  6.04408531e-01],\n",
      "       [-5.73889829e-01,  1.85511715e-16, -7.73940635e-01],\n",
      "       [-4.70104297e-01,  5.54700196e-01,  1.88960901e-01]]))\n"
     ]
    }
   ],
   "source": [
    "print(np.linalg.eig(A))"
   ]
  },
  {
   "cell_type": "markdown",
   "id": "1c211b0c",
   "metadata": {},
   "source": [
    "## EXERCICE\n",
    "Standardisez la matrice A sur chaque colonne\n",
    "    Resultat : chaque ligne doit avoir moyenne = 0 et écart type = 1"
   ]
  },
  {
   "cell_type": "code",
   "execution_count": 72,
   "id": "54f4bff4",
   "metadata": {},
   "outputs": [],
   "source": [
    "np.random.seed(0)"
   ]
  },
  {
   "cell_type": "code",
   "execution_count": 73,
   "id": "54a652d6",
   "metadata": {},
   "outputs": [
    {
     "name": "stdout",
     "output_type": "stream",
     "text": [
      "[[44 47 64 67 67]\n",
      " [ 9 83 21 36 87]\n",
      " [70 88 88 12 58]\n",
      " [65 39 87 46 88]\n",
      " [81 37 25 77 72]\n",
      " [ 9 20 80 69 79]\n",
      " [47 64 82 99 88]\n",
      " [49 29 19 19 14]\n",
      " [39 32 65  9 57]\n",
      " [32 31 74 23 35]]\n"
     ]
    }
   ],
   "source": [
    "A= np.random.randint(0,100, [10,5])\n",
    "print(A)"
   ]
  },
  {
   "cell_type": "code",
   "execution_count": 74,
   "id": "13440efd",
   "metadata": {},
   "outputs": [],
   "source": [
    "D = (A-A.mean(axis =0)) / A.std(axis = 0)"
   ]
  },
  {
   "cell_type": "code",
   "execution_count": 75,
   "id": "1301868f",
   "metadata": {},
   "outputs": [
    {
     "name": "stdout",
     "output_type": "stream",
     "text": [
      "[[-0.02206157  0.          0.13173823  0.72539252  0.10755798]\n",
      " [-1.56637126  1.61579632 -1.48676006 -0.33034307  0.96802178]\n",
      " [ 1.12513992  1.84021247  1.03508612 -1.14768676 -0.27965074]\n",
      " [ 0.90452425 -0.35906585  0.99744662  0.0102168   1.01104497]\n",
      " [ 1.6104944  -0.44883231 -1.33620208  1.0659524   0.32267393]\n",
      " [-1.56637126 -1.21184724  0.73397016  0.7935045   0.62383626]\n",
      " [ 0.11030784  0.76301493  0.80924915  1.81518411  1.01104497]\n",
      " [ 0.1985541  -0.80789816 -1.56203905 -0.90929485 -2.17267111]\n",
      " [-0.24267724 -0.67324847  0.16937773 -1.24985473 -0.32267393]\n",
      " [-0.55153918 -0.7181317   0.50813319 -0.77307091 -1.26918412]]\n"
     ]
    }
   ],
   "source": [
    "print(D)"
   ]
  },
  {
   "cell_type": "code",
   "execution_count": 76,
   "id": "ef84e1a6",
   "metadata": {},
   "outputs": [
    {
     "name": "stdout",
     "output_type": "stream",
     "text": [
      "[-2.22044605e-17 -4.44089210e-17  0.00000000e+00 -1.22124533e-16\n",
      " -4.44089210e-17]\n"
     ]
    }
   ],
   "source": [
    "print(D.mean(axis = 0))"
   ]
  },
  {
   "cell_type": "code",
   "execution_count": 77,
   "id": "ab00ae39",
   "metadata": {},
   "outputs": [
    {
     "name": "stdout",
     "output_type": "stream",
     "text": [
      "[1. 1. 1. 1. 1.]\n"
     ]
    }
   ],
   "source": [
    "print(D.std(axis = 0))"
   ]
  },
  {
   "cell_type": "code",
   "execution_count": null,
   "id": "a898fcbe",
   "metadata": {},
   "outputs": [],
   "source": []
  }
 ],
 "metadata": {
  "kernelspec": {
   "display_name": "Python 3 (ipykernel)",
   "language": "python",
   "name": "python3"
  },
  "language_info": {
   "codemirror_mode": {
    "name": "ipython",
    "version": 3
   },
   "file_extension": ".py",
   "mimetype": "text/x-python",
   "name": "python",
   "nbconvert_exporter": "python",
   "pygments_lexer": "ipython3",
   "version": "3.11.5"
  }
 },
 "nbformat": 4,
 "nbformat_minor": 5
}
