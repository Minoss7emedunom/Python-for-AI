{
 "cells": [
  {
   "cell_type": "code",
   "execution_count": 1,
   "id": "c9ce718a",
   "metadata": {},
   "outputs": [],
   "source": [
    "import numpy as np\n",
    "import matplotlib.pyplot as plt\n",
    "from sklearn.metrics import *"
   ]
  },
  {
   "cell_type": "code",
   "execution_count": 2,
   "id": "a4a31eb9",
   "metadata": {},
   "outputs": [
    {
     "name": "stdout",
     "output_type": "stream",
     "text": [
      "MAE : 0.0\n",
      "MSE : 0.0\n"
     ]
    }
   ],
   "source": [
    "y = np.array([1])\n",
    "y_pred = np.array([1])\n",
    "\n",
    "print('MAE :', mean_absolute_error(y , y_pred))\n",
    "print('MSE :', mean_squared_error(y , y_pred))"
   ]
  },
  {
   "cell_type": "code",
   "execution_count": 6,
   "id": "831a81be",
   "metadata": {},
   "outputs": [
    {
     "name": "stdout",
     "output_type": "stream",
     "text": [
      "MAE : 2.0\n",
      "MSE : 8.0\n",
      "RMSE : 2.8284271247461903\n"
     ]
    }
   ],
   "source": [
    "y = np.array([1 , 2])\n",
    "y_pred = np.array([5 , 2])\n",
    "\n",
    "print('MAE :', mean_absolute_error(y , y_pred))\n",
    "print('MSE :', mean_squared_error(y , y_pred))\n",
    "print('RMSE :', np.sqrt(mean_squared_error(y , y_pred)))"
   ]
  },
  {
   "cell_type": "code",
   "execution_count": 7,
   "id": "817b0ef2",
   "metadata": {},
   "outputs": [
    {
     "name": "stdout",
     "output_type": "stream",
     "text": [
      "MAE : 167.66666666666666\n",
      "MSE : 166004.66666666666\n",
      "RMSE : 407.43670265044443\n",
      "median abs err : 2.0\n"
     ]
    }
   ],
   "source": [
    "y = np.array([1 , 2 , 2 , 3 , 5 , 2])\n",
    "y_pred = np.array([5 , 2, 2, 5 , 7 , 1000])\n",
    "\n",
    "print('MAE :', mean_absolute_error(y , y_pred))\n",
    "print('MSE :', mean_squared_error(y , y_pred))\n",
    "print('RMSE :', np.sqrt(mean_squared_error(y , y_pred)))\n",
    "print('median abs err :', median_absolute_error(y , y_pred))"
   ]
  },
  {
   "cell_type": "markdown",
   "id": "6da247c0",
   "metadata": {},
   "source": [
    "## Example"
   ]
  },
  {
   "cell_type": "code",
   "execution_count": null,
   "id": "bcb44970",
   "metadata": {
    "scrolled": true
   },
   "outputs": [],
   "source": [
    "from sklearn.datasets import load_boston\n",
    "from sklearn.linear_model import LinearRegression\n",
    "\n",
    "boston = load_boston()\n",
    "X = boston.data\n",
    "y = bostonn.target\n",
    "\n",
    "model = LinearRegression()\n",
    "model.fit(X,y)\n",
    "y_pred = model.predict(X)\n",
    "\n",
    "plt.scatter(X[:,5] , y , label = 'y')\n",
    "plt.scatter(X[:,5], y_pred , alpha = 0.8 , label = 'y_pred')\n",
    "plt.legend()"
   ]
  },
  {
   "cell_type": "code",
   "execution_count": null,
   "id": "8757a53f",
   "metadata": {},
   "outputs": [],
   "source": [
    "err_hist = np.abs(y-y_pred)\n",
    "plt.hist(err_hist , bins = 50)\n",
    "plt.show()"
   ]
  },
  {
   "cell_type": "code",
   "execution_count": null,
   "id": "9d7c6c2d",
   "metadata": {},
   "outputs": [],
   "source": [
    "model.score(X,y)"
   ]
  },
  {
   "cell_type": "code",
   "execution_count": null,
   "id": "e925c648",
   "metadata": {},
   "outputs": [],
   "source": [
    "cross_val_score(Linearregression(), X,y, cv = 3 , scoring ='neg_mean_absolute_error')"
   ]
  },
  {
   "cell_type": "code",
   "execution_count": null,
   "id": "06553b98",
   "metadata": {},
   "outputs": [],
   "source": []
  },
  {
   "cell_type": "code",
   "execution_count": null,
   "id": "33504eb2",
   "metadata": {},
   "outputs": [],
   "source": []
  },
  {
   "cell_type": "code",
   "execution_count": null,
   "id": "055a8ee0",
   "metadata": {},
   "outputs": [],
   "source": []
  },
  {
   "cell_type": "code",
   "execution_count": null,
   "id": "02233073",
   "metadata": {},
   "outputs": [],
   "source": []
  },
  {
   "cell_type": "code",
   "execution_count": null,
   "id": "e911c0c3",
   "metadata": {},
   "outputs": [],
   "source": []
  },
  {
   "cell_type": "code",
   "execution_count": null,
   "id": "d7e8caa1",
   "metadata": {},
   "outputs": [],
   "source": []
  }
 ],
 "metadata": {
  "kernelspec": {
   "display_name": "Python 3 (ipykernel)",
   "language": "python",
   "name": "python3"
  },
  "language_info": {
   "codemirror_mode": {
    "name": "ipython",
    "version": 3
   },
   "file_extension": ".py",
   "mimetype": "text/x-python",
   "name": "python",
   "nbconvert_exporter": "python",
   "pygments_lexer": "ipython3",
   "version": "3.11.5"
  }
 },
 "nbformat": 4,
 "nbformat_minor": 5
}
