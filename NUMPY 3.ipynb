{
 "cells": [
  {
   "cell_type": "markdown",
   "id": "a9b733e9",
   "metadata": {},
   "source": [
    "## METHODE ndarray"
   ]
  },
  {
   "cell_type": "code",
   "execution_count": 1,
   "id": "b3a66d20",
   "metadata": {},
   "outputs": [],
   "source": [
    "import numpy as np"
   ]
  },
  {
   "cell_type": "code",
   "execution_count": 2,
   "id": "ff3cccbf",
   "metadata": {},
   "outputs": [
    {
     "name": "stdout",
     "output_type": "stream",
     "text": [
      "[[5 0 3]\n",
      " [3 7 9]]\n"
     ]
    }
   ],
   "source": [
    "np.random.seed(0)\n",
    "A  = np.random.randint(0,10,[2,3])\n",
    "print(A)"
   ]
  },
  {
   "cell_type": "code",
   "execution_count": 3,
   "id": "0611a623",
   "metadata": {},
   "outputs": [
    {
     "name": "stdout",
     "output_type": "stream",
     "text": [
      "27\n"
     ]
    }
   ],
   "source": [
    "print(A.sum())"
   ]
  },
  {
   "cell_type": "code",
   "execution_count": 4,
   "id": "dbc340ff",
   "metadata": {},
   "outputs": [
    {
     "name": "stdout",
     "output_type": "stream",
     "text": [
      "[ 8  7 12]\n"
     ]
    }
   ],
   "source": [
    "print(A.sum(axis = 0))"
   ]
  },
  {
   "cell_type": "code",
   "execution_count": 5,
   "id": "5c3d4d26",
   "metadata": {},
   "outputs": [
    {
     "name": "stdout",
     "output_type": "stream",
     "text": [
      "[ 8 19]\n"
     ]
    }
   ],
   "source": [
    "print(A.sum(axis = 1))"
   ]
  },
  {
   "cell_type": "code",
   "execution_count": 7,
   "id": "10eb37e0",
   "metadata": {},
   "outputs": [
    {
     "name": "stdout",
     "output_type": "stream",
     "text": [
      "[ 5  5  8 11 18 27]\n"
     ]
    }
   ],
   "source": [
    "print(A.cumsum())"
   ]
  },
  {
   "cell_type": "code",
   "execution_count": 8,
   "id": "b727747a",
   "metadata": {},
   "outputs": [
    {
     "name": "stdout",
     "output_type": "stream",
     "text": [
      "[[ 5  0  3]\n",
      " [ 8  7 12]]\n"
     ]
    }
   ],
   "source": [
    "print(A.cumsum(axis = 0))"
   ]
  },
  {
   "cell_type": "code",
   "execution_count": 9,
   "id": "dafc7255",
   "metadata": {},
   "outputs": [
    {
     "name": "stdout",
     "output_type": "stream",
     "text": [
      "[[ 5  5  8]\n",
      " [ 3 10 19]]\n"
     ]
    }
   ],
   "source": [
    "print(A.cumsum(axis = 1))"
   ]
  },
  {
   "cell_type": "code",
   "execution_count": 10,
   "id": "e404ada0",
   "metadata": {},
   "outputs": [
    {
     "name": "stdout",
     "output_type": "stream",
     "text": [
      "[5 0 0 0 0 0]\n"
     ]
    }
   ],
   "source": [
    "print(A.cumprod())"
   ]
  },
  {
   "cell_type": "code",
   "execution_count": 11,
   "id": "125f9f5f",
   "metadata": {},
   "outputs": [
    {
     "name": "stdout",
     "output_type": "stream",
     "text": [
      "[[ 5  0  3]\n",
      " [ 8  7 12]]\n"
     ]
    }
   ],
   "source": [
    "print(A.cumsum(axis = 0))"
   ]
  },
  {
   "cell_type": "code",
   "execution_count": 12,
   "id": "53c4605b",
   "metadata": {},
   "outputs": [
    {
     "name": "stdout",
     "output_type": "stream",
     "text": [
      "[[ 5  5  8]\n",
      " [ 3 10 19]]\n"
     ]
    }
   ],
   "source": [
    "print(A.cumsum(axis = 1))"
   ]
  },
  {
   "cell_type": "code",
   "execution_count": 13,
   "id": "3d7d5fee",
   "metadata": {},
   "outputs": [
    {
     "name": "stdout",
     "output_type": "stream",
     "text": [
      "0\n"
     ]
    }
   ],
   "source": [
    "print(A.min())"
   ]
  },
  {
   "cell_type": "code",
   "execution_count": 14,
   "id": "34748f9f",
   "metadata": {},
   "outputs": [
    {
     "name": "stdout",
     "output_type": "stream",
     "text": [
      "[3 0 3]\n"
     ]
    }
   ],
   "source": [
    "print(A.min(axis = 0))"
   ]
  },
  {
   "cell_type": "code",
   "execution_count": 15,
   "id": "02df02ba",
   "metadata": {},
   "outputs": [
    {
     "name": "stdout",
     "output_type": "stream",
     "text": [
      "[0 3]\n"
     ]
    }
   ],
   "source": [
    "print(A.min(axis = 1))"
   ]
  },
  {
   "cell_type": "code",
   "execution_count": 16,
   "id": "b4363fd0",
   "metadata": {},
   "outputs": [
    {
     "name": "stdout",
     "output_type": "stream",
     "text": [
      "9\n"
     ]
    }
   ],
   "source": [
    "print(A.max())"
   ]
  },
  {
   "cell_type": "code",
   "execution_count": 17,
   "id": "d4923901",
   "metadata": {},
   "outputs": [
    {
     "name": "stdout",
     "output_type": "stream",
     "text": [
      "[5 7 9]\n"
     ]
    }
   ],
   "source": [
    "print(A.max(axis = 0))"
   ]
  },
  {
   "cell_type": "code",
   "execution_count": 18,
   "id": "257c3c96",
   "metadata": {},
   "outputs": [
    {
     "name": "stdout",
     "output_type": "stream",
     "text": [
      "[5 9]\n"
     ]
    }
   ],
   "source": [
    "print(A.max(axis = 1))"
   ]
  },
  {
   "cell_type": "code",
   "execution_count": 19,
   "id": "0638afbb",
   "metadata": {},
   "outputs": [
    {
     "name": "stdout",
     "output_type": "stream",
     "text": [
      "1\n"
     ]
    }
   ],
   "source": [
    "print(A.argmin())"
   ]
  },
  {
   "cell_type": "code",
   "execution_count": 20,
   "id": "05bd6107",
   "metadata": {},
   "outputs": [
    {
     "name": "stdout",
     "output_type": "stream",
     "text": [
      "[1 0 0]\n"
     ]
    }
   ],
   "source": [
    "print(A.argmin(axis = 0))"
   ]
  },
  {
   "cell_type": "code",
   "execution_count": 21,
   "id": "d8e25dee",
   "metadata": {},
   "outputs": [
    {
     "name": "stdout",
     "output_type": "stream",
     "text": [
      "[1 0]\n"
     ]
    }
   ],
   "source": [
    "print(A.argmin(axis = 1))"
   ]
  },
  {
   "cell_type": "code",
   "execution_count": 22,
   "id": "2a67cdb0",
   "metadata": {},
   "outputs": [
    {
     "name": "stdout",
     "output_type": "stream",
     "text": [
      "[0 1 1]\n"
     ]
    }
   ],
   "source": [
    "print(A.argmax(axis = 0))"
   ]
  },
  {
   "cell_type": "code",
   "execution_count": 25,
   "id": "e290c9d7",
   "metadata": {},
   "outputs": [
    {
     "name": "stdout",
     "output_type": "stream",
     "text": [
      "[[0 0 0]\n",
      " [1 1 1]]\n"
     ]
    }
   ],
   "source": [
    "print(A.argsort(axis = 0))"
   ]
  },
  {
   "cell_type": "code",
   "execution_count": 26,
   "id": "7e040da2",
   "metadata": {},
   "outputs": [
    {
     "name": "stdout",
     "output_type": "stream",
     "text": [
      "[[0 1 2]\n",
      " [0 1 2]]\n"
     ]
    }
   ],
   "source": [
    "print(A.argsort(axis = 1))"
   ]
  },
  {
   "cell_type": "markdown",
   "id": "aee997a7",
   "metadata": {},
   "source": [
    "## ROUTINE DE NUMPY"
   ]
  },
  {
   "cell_type": "code",
   "execution_count": 27,
   "id": "16f7718d",
   "metadata": {},
   "outputs": [
    {
     "name": "stdout",
     "output_type": "stream",
     "text": [
      "[[1.00000000e+00 2.00855369e+01 1.48413159e+02]\n",
      " [2.00855369e+01 1.09663316e+03 8.10308393e+03]]\n"
     ]
    }
   ],
   "source": [
    "print(np.exp(A))"
   ]
  },
  {
   "cell_type": "code",
   "execution_count": 28,
   "id": "42d51fc0",
   "metadata": {},
   "outputs": [
    {
     "name": "stdout",
     "output_type": "stream",
     "text": [
      "[[ 0.          0.14112001 -0.95892427]\n",
      " [ 0.14112001  0.6569866   0.41211849]]\n"
     ]
    }
   ],
   "source": [
    "print(np.sin(A))"
   ]
  },
  {
   "cell_type": "code",
   "execution_count": 29,
   "id": "d7279394",
   "metadata": {},
   "outputs": [
    {
     "name": "stdout",
     "output_type": "stream",
     "text": [
      "[[ 1.         -0.9899925   0.28366219]\n",
      " [-0.9899925   0.75390225 -0.91113026]]\n"
     ]
    }
   ],
   "source": [
    "print(np.cos(A))"
   ]
  },
  {
   "cell_type": "code",
   "execution_count": 30,
   "id": "ffbe8e02",
   "metadata": {},
   "outputs": [
    {
     "name": "stdout",
     "output_type": "stream",
     "text": [
      "[[   0.           10.01787493   74.20321058]\n",
      " [  10.01787493  548.31612327 4051.54190208]]\n"
     ]
    }
   ],
   "source": [
    "print(np.sinh(A))"
   ]
  },
  {
   "cell_type": "code",
   "execution_count": 31,
   "id": "e35754ce",
   "metadata": {},
   "outputs": [
    {
     "name": "stdout",
     "output_type": "stream",
     "text": [
      "[[      -inf 1.09861229 1.60943791]\n",
      " [1.09861229 1.94591015 2.19722458]]\n"
     ]
    },
    {
     "name": "stderr",
     "output_type": "stream",
     "text": [
      "C:\\Users\\benib\\AppData\\Local\\Temp\\ipykernel_13932\\2484384912.py:1: RuntimeWarning: divide by zero encountered in log\n",
      "  print(np.log(A))\n"
     ]
    }
   ],
   "source": [
    "print(np.log(A))"
   ]
  },
  {
   "cell_type": "markdown",
   "id": "0fd65735",
   "metadata": {},
   "source": [
    "## Statistiques"
   ]
  },
  {
   "cell_type": "code",
   "execution_count": 38,
   "id": "4f04fed7",
   "metadata": {},
   "outputs": [
    {
     "name": "stdout",
     "output_type": "stream",
     "text": [
      "[[0 3 5]\n",
      " [3 7 9]]\n"
     ]
    }
   ],
   "source": [
    "print(A)"
   ]
  },
  {
   "cell_type": "code",
   "execution_count": 39,
   "id": "3398304c",
   "metadata": {},
   "outputs": [
    {
     "name": "stdout",
     "output_type": "stream",
     "text": [
      "4.5\n"
     ]
    }
   ],
   "source": [
    "print(A.mean())"
   ]
  },
  {
   "cell_type": "code",
   "execution_count": 40,
   "id": "cc4255c0",
   "metadata": {},
   "outputs": [
    {
     "name": "stdout",
     "output_type": "stream",
     "text": [
      "2.9297326385411577\n"
     ]
    }
   ],
   "source": [
    "print(A.std())"
   ]
  },
  {
   "cell_type": "code",
   "execution_count": 41,
   "id": "6fba6812",
   "metadata": {},
   "outputs": [
    {
     "name": "stdout",
     "output_type": "stream",
     "text": [
      "8.583333333333334\n"
     ]
    }
   ],
   "source": [
    "print(A.var())"
   ]
  },
  {
   "cell_type": "code",
   "execution_count": 42,
   "id": "e06e41fe",
   "metadata": {},
   "outputs": [
    {
     "name": "stdout",
     "output_type": "stream",
     "text": [
      "[[1.         0.99717646]\n",
      " [0.99717646 1.        ]]\n"
     ]
    }
   ],
   "source": [
    "print(np.corrcoef(A))"
   ]
  },
  {
   "cell_type": "code",
   "execution_count": 43,
   "id": "87578cfc",
   "metadata": {},
   "outputs": [
    {
     "name": "stdout",
     "output_type": "stream",
     "text": [
      "0.997176464952738\n"
     ]
    }
   ],
   "source": [
    "print(np.corrcoef(A)[0,1])"
   ]
  },
  {
   "cell_type": "code",
   "execution_count": 44,
   "id": "b15b16b7",
   "metadata": {},
   "outputs": [
    {
     "data": {
      "text/plain": [
       "(array([0, 3, 5, 7, 9]), array([1, 2, 1, 1, 1], dtype=int64))"
      ]
     },
     "execution_count": 44,
     "metadata": {},
     "output_type": "execute_result"
    }
   ],
   "source": [
    "np.unique(A, return_counts = True)"
   ]
  },
  {
   "cell_type": "code",
   "execution_count": 45,
   "id": "f180989c",
   "metadata": {},
   "outputs": [
    {
     "name": "stdout",
     "output_type": "stream",
     "text": [
      "[[5 0 3 3 7]\n",
      " [9 3 5 2 4]\n",
      " [7 6 8 8 1]\n",
      " [6 7 7 8 1]\n",
      " [5 9 8 9 4]]\n"
     ]
    }
   ],
   "source": [
    "np.random.seed(0)\n",
    "A  = np.random.randint(0,10,[5,5])\n",
    "print(A)"
   ]
  },
  {
   "cell_type": "code",
   "execution_count": 48,
   "id": "62296ee6",
   "metadata": {},
   "outputs": [],
   "source": [
    "values, counts = np.unique(A, return_counts = True)"
   ]
  },
  {
   "cell_type": "code",
   "execution_count": 49,
   "id": "0848fe0e",
   "metadata": {},
   "outputs": [
    {
     "name": "stdout",
     "output_type": "stream",
     "text": [
      "[1 2 1 3 2 3 2 4 4 3]\n"
     ]
    }
   ],
   "source": [
    "print(counts)"
   ]
  },
  {
   "cell_type": "code",
   "execution_count": 50,
   "id": "ccaa0955",
   "metadata": {},
   "outputs": [
    {
     "name": "stdout",
     "output_type": "stream",
     "text": [
      "[0 2 1 4 6 3 5 9 7 8]\n"
     ]
    }
   ],
   "source": [
    "print(counts.argsort())"
   ]
  },
  {
   "cell_type": "code",
   "execution_count": 51,
   "id": "63c84680",
   "metadata": {},
   "outputs": [
    {
     "name": "stdout",
     "output_type": "stream",
     "text": [
      "[0 2 1 4 6 3 5 9 7 8]\n"
     ]
    }
   ],
   "source": [
    "print(values[counts.argsort()])"
   ]
  },
  {
   "cell_type": "code",
   "execution_count": 52,
   "id": "1d31fa42",
   "metadata": {},
   "outputs": [
    {
     "name": "stdout",
     "output_type": "stream",
     "text": [
      "valeur 0 apparait 1\n",
      "valeur 2 apparait 1\n",
      "valeur 1 apparait 2\n",
      "valeur 4 apparait 2\n",
      "valeur 6 apparait 2\n",
      "valeur 3 apparait 3\n",
      "valeur 5 apparait 3\n",
      "valeur 9 apparait 3\n",
      "valeur 7 apparait 4\n",
      "valeur 8 apparait 4\n"
     ]
    }
   ],
   "source": [
    "for i,j in zip(values[counts.argsort()], counts[counts.argsort()]):\n",
    "    print(f'valeur {i} apparait {j}')"
   ]
  },
  {
   "cell_type": "markdown",
   "id": "dedb7111",
   "metadata": {},
   "source": [
    "## NAN Corrections"
   ]
  },
  {
   "cell_type": "code",
   "execution_count": 53,
   "id": "5a379602",
   "metadata": {},
   "outputs": [
    {
     "name": "stdout",
     "output_type": "stream",
     "text": [
      "[[ 0.44386323  0.33367433         nan -0.20515826  0.3130677 ]\n",
      " [-0.85409574 -2.55298982  0.6536186   0.8644362  -0.74216502]\n",
      " [ 2.26975462 -1.45436567  0.04575852 -0.18718385  1.53277921]\n",
      " [ 1.46935877  0.15494743  0.37816252 -0.88778575 -1.98079647]\n",
      " [-0.34791215  0.15634897  1.23029068         nan -0.38732682]]\n"
     ]
    }
   ],
   "source": [
    "A = np.random.randn(5,5)\n",
    "A[0,2] = np.nan\n",
    "A[4,3] = np.nan\n",
    "print(A)"
   ]
  },
  {
   "cell_type": "code",
   "execution_count": 54,
   "id": "40e7c86a",
   "metadata": {},
   "outputs": [
    {
     "name": "stdout",
     "output_type": "stream",
     "text": [
      "0.010707879575141632\n"
     ]
    }
   ],
   "source": [
    "print(np.nanmean(A))"
   ]
  },
  {
   "cell_type": "code",
   "execution_count": 56,
   "id": "3e8c5f9b",
   "metadata": {},
   "outputs": [
    {
     "name": "stdout",
     "output_type": "stream",
     "text": [
      "1.1017518326683546\n"
     ]
    }
   ],
   "source": [
    "print(np.nanstd(A))"
   ]
  },
  {
   "cell_type": "code",
   "execution_count": 57,
   "id": "ffc4daba",
   "metadata": {},
   "outputs": [
    {
     "name": "stdout",
     "output_type": "stream",
     "text": [
      "1.213857100788078\n"
     ]
    }
   ],
   "source": [
    "print(np.nanvar(A))"
   ]
  },
  {
   "cell_type": "code",
   "execution_count": 58,
   "id": "aabf4ec7",
   "metadata": {},
   "outputs": [
    {
     "name": "stdout",
     "output_type": "stream",
     "text": [
      "[[False False  True False False]\n",
      " [False False False False False]\n",
      " [False False False False False]\n",
      " [False False False False False]\n",
      " [False False False  True False]]\n"
     ]
    }
   ],
   "source": [
    "print(np.isnan(A))"
   ]
  },
  {
   "cell_type": "code",
   "execution_count": 59,
   "id": "764ba585",
   "metadata": {},
   "outputs": [
    {
     "name": "stdout",
     "output_type": "stream",
     "text": [
      "2\n"
     ]
    }
   ],
   "source": [
    "print(np.isnan(A).sum())"
   ]
  },
  {
   "cell_type": "code",
   "execution_count": 60,
   "id": "1f98e926",
   "metadata": {},
   "outputs": [
    {
     "name": "stdout",
     "output_type": "stream",
     "text": [
      "0.08\n"
     ]
    }
   ],
   "source": [
    "print(np.isnan(A).sum()/A.size)"
   ]
  },
  {
   "cell_type": "code",
   "execution_count": 61,
   "id": "b19597a1",
   "metadata": {},
   "outputs": [
    {
     "name": "stdout",
     "output_type": "stream",
     "text": [
      "[[False False  True False False]\n",
      " [False False False False False]\n",
      " [False False False False False]\n",
      " [False False False False False]\n",
      " [False False False  True False]]\n"
     ]
    }
   ],
   "source": [
    "print(np.isnan(A))"
   ]
  },
  {
   "cell_type": "code",
   "execution_count": 62,
   "id": "95952082",
   "metadata": {},
   "outputs": [
    {
     "name": "stdout",
     "output_type": "stream",
     "text": [
      "[[ 0.44386323  0.33367433  0.         -0.20515826  0.3130677 ]\n",
      " [-0.85409574 -2.55298982  0.6536186   0.8644362  -0.74216502]\n",
      " [ 2.26975462 -1.45436567  0.04575852 -0.18718385  1.53277921]\n",
      " [ 1.46935877  0.15494743  0.37816252 -0.88778575 -1.98079647]\n",
      " [-0.34791215  0.15634897  1.23029068  0.         -0.38732682]]\n"
     ]
    }
   ],
   "source": [
    "A[np.isnan(A)] = 0\n",
    "print(A)"
   ]
  },
  {
   "cell_type": "markdown",
   "id": "0c01a81d",
   "metadata": {},
   "source": [
    "## Algèbre Lineaire"
   ]
  },
  {
   "cell_type": "code",
   "execution_count": 63,
   "id": "c2bc9e08",
   "metadata": {},
   "outputs": [
    {
     "name": "stdout",
     "output_type": "stream",
     "text": [
      "[[1. 1. 1.]\n",
      " [1. 1. 1.]]\n"
     ]
    }
   ],
   "source": [
    "A = np.ones((2,3))\n",
    "B = np.ones((3,2))\n",
    "print(A)"
   ]
  },
  {
   "cell_type": "code",
   "execution_count": 64,
   "id": "6089ff0d",
   "metadata": {},
   "outputs": [
    {
     "name": "stdout",
     "output_type": "stream",
     "text": [
      "[[1. 1.]\n",
      " [1. 1.]\n",
      " [1. 1.]]\n"
     ]
    }
   ],
   "source": [
    "print(B)"
   ]
  },
  {
   "cell_type": "code",
   "execution_count": 65,
   "id": "a178dd3a",
   "metadata": {},
   "outputs": [
    {
     "name": "stdout",
     "output_type": "stream",
     "text": [
      "[[1. 1.]\n",
      " [1. 1.]\n",
      " [1. 1.]]\n"
     ]
    }
   ],
   "source": [
    " print(A.T)"
   ]
  },
  {
   "cell_type": "code",
   "execution_count": 66,
   "id": "0ad95744",
   "metadata": {},
   "outputs": [
    {
     "name": "stdout",
     "output_type": "stream",
     "text": [
      "[[3. 3.]\n",
      " [3. 3.]]\n"
     ]
    }
   ],
   "source": [
    "print(A.dot(B))"
   ]
  },
  {
   "cell_type": "code",
   "execution_count": 67,
   "id": "f4519dd3",
   "metadata": {},
   "outputs": [
    {
     "name": "stdout",
     "output_type": "stream",
     "text": [
      "[[2. 2. 2.]\n",
      " [2. 2. 2.]\n",
      " [2. 2. 2.]]\n"
     ]
    }
   ],
   "source": [
    "print(B.dot(A))"
   ]
  },
  {
   "cell_type": "code",
   "execution_count": 68,
   "id": "23f9974a",
   "metadata": {},
   "outputs": [
    {
     "name": "stdout",
     "output_type": "stream",
     "text": [
      "[[3 5 9]\n",
      " [4 4 6]\n",
      " [4 4 3]]\n"
     ]
    }
   ],
   "source": [
    "A = np.random.randint(0,10, [3,3])\n",
    "print(A)"
   ]
  },
  {
   "cell_type": "code",
   "execution_count": 69,
   "id": "330e7128",
   "metadata": {},
   "outputs": [
    {
     "name": "stdout",
     "output_type": "stream",
     "text": [
      "23.999999999999993\n"
     ]
    }
   ],
   "source": [
    "print(np.linalg.det(A))"
   ]
  },
  {
   "cell_type": "code",
   "execution_count": 70,
   "id": "0382a613",
   "metadata": {},
   "outputs": [
    {
     "name": "stdout",
     "output_type": "stream",
     "text": [
      "[[-0.5         0.875      -0.25      ]\n",
      " [ 0.5        -1.125       0.75      ]\n",
      " [-0.          0.33333333 -0.33333333]]\n"
     ]
    }
   ],
   "source": [
    "print(np.linalg.inv(A))"
   ]
  },
  {
   "cell_type": "code",
   "execution_count": 71,
   "id": "d4a84917",
   "metadata": {},
   "outputs": [
    {
     "name": "stdout",
     "output_type": "stream",
     "text": [
      "(array([13.58872344, -3.        , -0.58872344]), array([[-6.70561268e-01, -8.32050294e-01,  6.04408531e-01],\n",
      "       [-5.73889829e-01,  1.85511715e-16, -7.73940635e-01],\n",
      "       [-4.70104297e-01,  5.54700196e-01,  1.88960901e-01]]))\n"
     ]
    }
   ],
   "source": [
    "print(np.linalg.eig(A))"
   ]
  },
  {
   "cell_type": "markdown",
   "id": "cd549bce",
   "metadata": {},
   "source": [
    "## EXERCICE\n",
    "Standardisez la matrice A sur chaque colonne\n",
    "    Resultat : chaque ligne doit avoir moyenne = 0 et écart type = 1"
   ]
  },
  {
   "cell_type": "code",
   "execution_count": 72,
   "id": "690966d2",
   "metadata": {},
   "outputs": [],
   "source": [
    "np.random.seed(0)"
   ]
  },
  {
   "cell_type": "code",
   "execution_count": 73,
   "id": "42f6b489",
   "metadata": {},
   "outputs": [
    {
     "name": "stdout",
     "output_type": "stream",
     "text": [
      "[[44 47 64 67 67]\n",
      " [ 9 83 21 36 87]\n",
      " [70 88 88 12 58]\n",
      " [65 39 87 46 88]\n",
      " [81 37 25 77 72]\n",
      " [ 9 20 80 69 79]\n",
      " [47 64 82 99 88]\n",
      " [49 29 19 19 14]\n",
      " [39 32 65  9 57]\n",
      " [32 31 74 23 35]]\n"
     ]
    }
   ],
   "source": [
    "A= np.random.randint(0,100, [10,5])\n",
    "print(A)"
   ]
  },
  {
   "cell_type": "code",
   "execution_count": 74,
   "id": "e24540b6",
   "metadata": {},
   "outputs": [],
   "source": [
    "D = (A-A.mean(axis =0)) / A.std(axis = 0)"
   ]
  },
  {
   "cell_type": "code",
   "execution_count": 75,
   "id": "7e914ee3",
   "metadata": {},
   "outputs": [
    {
     "name": "stdout",
     "output_type": "stream",
     "text": [
      "[[-0.02206157  0.          0.13173823  0.72539252  0.10755798]\n",
      " [-1.56637126  1.61579632 -1.48676006 -0.33034307  0.96802178]\n",
      " [ 1.12513992  1.84021247  1.03508612 -1.14768676 -0.27965074]\n",
      " [ 0.90452425 -0.35906585  0.99744662  0.0102168   1.01104497]\n",
      " [ 1.6104944  -0.44883231 -1.33620208  1.0659524   0.32267393]\n",
      " [-1.56637126 -1.21184724  0.73397016  0.7935045   0.62383626]\n",
      " [ 0.11030784  0.76301493  0.80924915  1.81518411  1.01104497]\n",
      " [ 0.1985541  -0.80789816 -1.56203905 -0.90929485 -2.17267111]\n",
      " [-0.24267724 -0.67324847  0.16937773 -1.24985473 -0.32267393]\n",
      " [-0.55153918 -0.7181317   0.50813319 -0.77307091 -1.26918412]]\n"
     ]
    }
   ],
   "source": [
    "print(D)"
   ]
  },
  {
   "cell_type": "code",
   "execution_count": 76,
   "id": "13251f9d",
   "metadata": {},
   "outputs": [
    {
     "name": "stdout",
     "output_type": "stream",
     "text": [
      "[-2.22044605e-17 -4.44089210e-17  0.00000000e+00 -1.22124533e-16\n",
      " -4.44089210e-17]\n"
     ]
    }
   ],
   "source": [
    "print(D.mean(axis = 0))"
   ]
  },
  {
   "cell_type": "code",
   "execution_count": 77,
   "id": "d7d29908",
   "metadata": {},
   "outputs": [
    {
     "name": "stdout",
     "output_type": "stream",
     "text": [
      "[1. 1. 1. 1. 1.]\n"
     ]
    }
   ],
   "source": [
    "print(D.std(axis = 0))"
   ]
  },
  {
   "cell_type": "code",
   "execution_count": null,
   "id": "1e9d589a",
   "metadata": {},
   "outputs": [],
   "source": []
  }
 ],
 "metadata": {
  "kernelspec": {
   "display_name": "Python 3 (ipykernel)",
   "language": "python",
   "name": "python3"
  },
  "language_info": {
   "codemirror_mode": {
    "name": "ipython",
    "version": 3
   },
   "file_extension": ".py",
   "mimetype": "text/x-python",
   "name": "python",
   "nbconvert_exporter": "python",
   "pygments_lexer": "ipython3",
   "version": "3.11.5"
  }
 },
 "nbformat": 4,
 "nbformat_minor": 5
}
